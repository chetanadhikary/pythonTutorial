{
 "cells": [
  {
   "cell_type": "markdown",
   "metadata": {},
   "source": [
    "## A calculator function "
   ]
  },
  {
   "cell_type": "code",
   "execution_count": 1,
   "metadata": {},
   "outputs": [],
   "source": [
    "def calculator(operation,a,b):\n",
    "        if (operation == 'add') or (operation == '+'):\n",
    "            return a+b\n",
    "        elif (operation=='sub') or (operation=='-'):\n",
    "            return a-b\n",
    "        elif (operation=='mul') or (operation=='*'):\n",
    "            return a*b\n",
    "        elif (operation=='div') or (operation=='/'):\n",
    "            return a/b\n",
    "        else: \n",
    "            return None"
   ]
  },
  {
   "cell_type": "code",
   "execution_count": 3,
   "metadata": {},
   "outputs": [
    {
     "ename": "ZeroDivisionError",
     "evalue": "division by zero",
     "output_type": "error",
     "traceback": [
      "\u001b[0;31m---------------------------------------------------------------------------\u001b[0m",
      "\u001b[0;31mZeroDivisionError\u001b[0m                         Traceback (most recent call last)",
      "Cell \u001b[0;32mIn[3], line 1\u001b[0m\n\u001b[0;32m----> 1\u001b[0m calculator(\u001b[38;5;124m'\u001b[39m\u001b[38;5;124m/\u001b[39m\u001b[38;5;124m'\u001b[39m,\u001b[38;5;241m5\u001b[39m,\u001b[38;5;241m0\u001b[39m)\n",
      "Cell \u001b[0;32mIn[1], line 9\u001b[0m, in \u001b[0;36mcalculator\u001b[0;34m(operation, a, b)\u001b[0m\n\u001b[1;32m      7\u001b[0m     \u001b[38;5;28;01mreturn\u001b[39;00m a\u001b[38;5;241m*\u001b[39mb\n\u001b[1;32m      8\u001b[0m \u001b[38;5;28;01melif\u001b[39;00m (operation\u001b[38;5;241m==\u001b[39m\u001b[38;5;124m'\u001b[39m\u001b[38;5;124mdiv\u001b[39m\u001b[38;5;124m'\u001b[39m) \u001b[38;5;129;01mor\u001b[39;00m (operation\u001b[38;5;241m==\u001b[39m\u001b[38;5;124m'\u001b[39m\u001b[38;5;124m/\u001b[39m\u001b[38;5;124m'\u001b[39m):\n\u001b[0;32m----> 9\u001b[0m     \u001b[38;5;28;01mreturn\u001b[39;00m a\u001b[38;5;241m/\u001b[39mb\n\u001b[1;32m     10\u001b[0m \u001b[38;5;28;01melse\u001b[39;00m: \n\u001b[1;32m     11\u001b[0m     \u001b[38;5;28;01mreturn\u001b[39;00m \u001b[38;5;28;01mNone\u001b[39;00m\n",
      "\u001b[0;31mZeroDivisionError\u001b[0m: division by zero"
     ]
    }
   ],
   "source": [
    "calculator('/',5,0)"
   ]
  },
  {
   "cell_type": "code",
   "execution_count": 5,
   "metadata": {},
   "outputs": [
    {
     "ename": "TypeError",
     "evalue": "unsupported operand type(s) for +: 'int' and 'str'",
     "output_type": "error",
     "traceback": [
      "\u001b[0;31m---------------------------------------------------------------------------\u001b[0m",
      "\u001b[0;31mTypeError\u001b[0m                                 Traceback (most recent call last)",
      "Cell \u001b[0;32mIn[5], line 1\u001b[0m\n\u001b[0;32m----> 1\u001b[0m calculator(\u001b[38;5;124m'\u001b[39m\u001b[38;5;124m+\u001b[39m\u001b[38;5;124m'\u001b[39m,\u001b[38;5;241m5\u001b[39m,\u001b[38;5;124m'\u001b[39m\u001b[38;5;124m0\u001b[39m\u001b[38;5;124m'\u001b[39m)\n",
      "Cell \u001b[0;32mIn[1], line 3\u001b[0m, in \u001b[0;36mcalculator\u001b[0;34m(operation, a, b)\u001b[0m\n\u001b[1;32m      1\u001b[0m \u001b[38;5;28;01mdef\u001b[39;00m \u001b[38;5;21mcalculator\u001b[39m(operation,a,b):\n\u001b[1;32m      2\u001b[0m         \u001b[38;5;28;01mif\u001b[39;00m (operation \u001b[38;5;241m==\u001b[39m \u001b[38;5;124m'\u001b[39m\u001b[38;5;124madd\u001b[39m\u001b[38;5;124m'\u001b[39m) \u001b[38;5;129;01mor\u001b[39;00m (operation \u001b[38;5;241m==\u001b[39m \u001b[38;5;124m'\u001b[39m\u001b[38;5;124m+\u001b[39m\u001b[38;5;124m'\u001b[39m):\n\u001b[0;32m----> 3\u001b[0m             \u001b[38;5;28;01mreturn\u001b[39;00m a\u001b[38;5;241m+\u001b[39mb\n\u001b[1;32m      4\u001b[0m         \u001b[38;5;28;01melif\u001b[39;00m (operation\u001b[38;5;241m==\u001b[39m\u001b[38;5;124m'\u001b[39m\u001b[38;5;124msub\u001b[39m\u001b[38;5;124m'\u001b[39m) \u001b[38;5;129;01mor\u001b[39;00m (operation\u001b[38;5;241m==\u001b[39m\u001b[38;5;124m'\u001b[39m\u001b[38;5;124m-\u001b[39m\u001b[38;5;124m'\u001b[39m):\n\u001b[1;32m      5\u001b[0m             \u001b[38;5;28;01mreturn\u001b[39;00m a\u001b[38;5;241m-\u001b[39mb\n",
      "\u001b[0;31mTypeError\u001b[0m: unsupported operand type(s) for +: 'int' and 'str'"
     ]
    }
   ],
   "source": [
    "calculator('+',5,'0')"
   ]
  },
  {
   "cell_type": "markdown",
   "metadata": {},
   "source": [
    "## Calculator function with try/except block"
   ]
  },
  {
   "cell_type": "code",
   "execution_count": 7,
   "metadata": {},
   "outputs": [],
   "source": [
    "def calculator(operation,a,b):\n",
    "    try:\n",
    "        if (operation == 'add') or (operation == '+'):\n",
    "            return a+b\n",
    "        elif (operation=='sub') or (operation=='-'):\n",
    "            return a-b\n",
    "        elif (operation=='mul') or (operation=='*'):\n",
    "            return a*b\n",
    "        elif (operation=='div') or (operation=='/'):\n",
    "            return a/b\n",
    "        else: \n",
    "            return None\n",
    "    except:\n",
    "        print('There was an exception')"
   ]
  },
  {
   "cell_type": "code",
   "execution_count": 9,
   "metadata": {},
   "outputs": [
    {
     "name": "stdout",
     "output_type": "stream",
     "text": [
      "There was an exception\n"
     ]
    }
   ],
   "source": [
    "calculator('/',5,0)"
   ]
  },
  {
   "cell_type": "code",
   "execution_count": 11,
   "metadata": {},
   "outputs": [
    {
     "name": "stdout",
     "output_type": "stream",
     "text": [
      "There was an exception\n"
     ]
    }
   ],
   "source": [
    "calculator('+',5,'0')"
   ]
  },
  {
   "cell_type": "markdown",
   "metadata": {},
   "source": [
    "## Calculator function with try/except and exception message"
   ]
  },
  {
   "cell_type": "code",
   "execution_count": 13,
   "metadata": {},
   "outputs": [],
   "source": [
    "def calculator(operation,a,b):\n",
    "    try:\n",
    "        if (operation == 'add') or (operation == '+'):\n",
    "            return a+b\n",
    "        elif (operation=='sub') or (operation=='-'):\n",
    "            return a-b\n",
    "        elif (operation=='mul') or (operation=='*'):\n",
    "            return a*b\n",
    "        elif (operation=='div') or (operation=='/'):\n",
    "            return a/b\n",
    "        else: \n",
    "            return None\n",
    "    except Exception as inst:\n",
    "        print(inst)"
   ]
  },
  {
   "cell_type": "code",
   "execution_count": 15,
   "metadata": {},
   "outputs": [
    {
     "name": "stdout",
     "output_type": "stream",
     "text": [
      "division by zero\n"
     ]
    }
   ],
   "source": [
    "calculator('/',5,0)"
   ]
  },
  {
   "cell_type": "code",
   "execution_count": 17,
   "metadata": {},
   "outputs": [
    {
     "name": "stdout",
     "output_type": "stream",
     "text": [
      "unsupported operand type(s) for +: 'int' and 'str'\n"
     ]
    }
   ],
   "source": [
    "calculator('+',5,'0')"
   ]
  },
  {
   "cell_type": "markdown",
   "metadata": {},
   "source": [
    "## Calculate function with single try and mulitple exception "
   ]
  },
  {
   "cell_type": "code",
   "execution_count": 19,
   "metadata": {},
   "outputs": [],
   "source": [
    "def calculator(operation,a,b):\n",
    "    try:\n",
    "        if (operation == 'add') or (operation == '+'):\n",
    "            return a+b\n",
    "        elif (operation=='sub') or (operation=='-'):\n",
    "            return a-b\n",
    "        elif (operation=='mul') or (operation=='*'):\n",
    "            return a*b\n",
    "        elif (operation=='div') or (operation=='/'):\n",
    "            return a/b\n",
    "        else:\n",
    "            return None\n",
    "    except ZeroDivisionError as ze:\n",
    "        print(ze)\n",
    "        print('Please enter a non zero value for the denominator')\n",
    "    except TypeError as te:\n",
    "        print(te)\n",
    "        print('Please provide valid numerical inputs')"
   ]
  },
  {
   "cell_type": "code",
   "execution_count": 21,
   "metadata": {},
   "outputs": [
    {
     "name": "stdout",
     "output_type": "stream",
     "text": [
      "division by zero\n",
      "Please enter a non zero value for the denominator\n"
     ]
    }
   ],
   "source": [
    "calculator('/',5,0)"
   ]
  },
  {
   "cell_type": "code",
   "execution_count": 23,
   "metadata": {},
   "outputs": [
    {
     "name": "stdout",
     "output_type": "stream",
     "text": [
      "unsupported operand type(s) for +: 'int' and 'str'\n",
      "Please provide valid numerical inputs\n"
     ]
    }
   ],
   "source": [
    "calculator('+',5,'0')"
   ]
  },
  {
   "cell_type": "markdown",
   "metadata": {},
   "source": [
    "## Calculate function with single try and mulitple exception along with user defined exception message"
   ]
  },
  {
   "cell_type": "code",
   "execution_count": 25,
   "metadata": {},
   "outputs": [],
   "source": [
    "def calculator(operation,a,b):\n",
    "    try:\n",
    "        if (operation == 'add') or (operation == '+'):\n",
    "            return a+b\n",
    "        elif (operation=='sub') or (operation=='-'):\n",
    "            return a-b\n",
    "        elif (operation=='mul') or (operation=='*'):\n",
    "            return a*b\n",
    "        elif (operation=='div') or (operation=='/'):\n",
    "            return a/b\n",
    "        else:\n",
    "            return None\n",
    "    except ZeroDivisionError as e:\n",
    "        print(e)\n",
    "        print('Operation {} is not defined on {} & {}'.format(operation,a,b))\n",
    "    except TypeError as e:\n",
    "        print(e)\n",
    "        print('Please provide valid inputs')"
   ]
  },
  {
   "cell_type": "code",
   "execution_count": 27,
   "metadata": {},
   "outputs": [
    {
     "name": "stdout",
     "output_type": "stream",
     "text": [
      "division by zero\n",
      "Operation / is not defined on 5 & 0\n"
     ]
    }
   ],
   "source": [
    "calculator('/',5,0)"
   ]
  },
  {
   "cell_type": "code",
   "execution_count": 29,
   "metadata": {},
   "outputs": [
    {
     "name": "stdout",
     "output_type": "stream",
     "text": [
      "unsupported operand type(s) for +: 'int' and 'str'\n",
      "Please provide valid inputs\n"
     ]
    }
   ],
   "source": [
    "calculator('+',5,'0')"
   ]
  },
  {
   "cell_type": "markdown",
   "metadata": {},
   "source": [
    "## Calculator function with raise exception"
   ]
  },
  {
   "cell_type": "code",
   "execution_count": 31,
   "metadata": {},
   "outputs": [],
   "source": [
    "def calculator(operation,a,b):\n",
    "    try:\n",
    "        if (operation == 'add') or (operation == '+'):\n",
    "            return a+b\n",
    "        elif (operation=='sub') or (operation=='-'):\n",
    "            return a-b\n",
    "        elif (operation=='mul') or (operation=='*'):\n",
    "            return a*b\n",
    "        elif (operation=='div') or (operation=='/'):\n",
    "            return a/b\n",
    "        else:\n",
    "            raise TypeError\n",
    "    except ZeroDivisionError as e:\n",
    "        print(e)\n",
    "        print('Operation {} is not defined on {} & {}'.format(operation,a,b))\n",
    "    except TypeError as e:\n",
    "        print(e)\n",
    "        print('Please provide valid inputs')"
   ]
  },
  {
   "cell_type": "code",
   "execution_count": 33,
   "metadata": {},
   "outputs": [
    {
     "name": "stdout",
     "output_type": "stream",
     "text": [
      "division by zero\n",
      "Operation / is not defined on 5 & 0\n"
     ]
    }
   ],
   "source": [
    "calculator('/',5,0)"
   ]
  },
  {
   "cell_type": "code",
   "execution_count": 35,
   "metadata": {},
   "outputs": [
    {
     "name": "stdout",
     "output_type": "stream",
     "text": [
      "unsupported operand type(s) for +: 'int' and 'str'\n",
      "Please provide valid inputs\n"
     ]
    }
   ],
   "source": [
    "calculator('+',5,'0')"
   ]
  },
  {
   "cell_type": "code",
   "execution_count": 37,
   "metadata": {},
   "outputs": [
    {
     "name": "stdout",
     "output_type": "stream",
     "text": [
      "\n",
      "Please provide valid inputs\n"
     ]
    }
   ],
   "source": [
    "calculator('+*',5,0)"
   ]
  },
  {
   "cell_type": "markdown",
   "metadata": {},
   "source": [
    "## Function to read files"
   ]
  },
  {
   "cell_type": "code",
   "execution_count": null,
   "metadata": {},
   "outputs": [],
   "source": [
    "def read_file(file):\n",
    "    try:\n",
    "        fh = open(file)\n",
    "        raise TypeError\n",
    "            \n",
    "    except:\n",
    "        print('Inside except block')\n",
    "        print('Has the file {} closed : {}'.format(file,fh.closed)) \n",
    "\n",
    "    finally:\n",
    "        fh.close()\n",
    "        print('Inside finally block')\n",
    "        print('Has the file {} closed : {}'.format(file,fh.closed))"
   ]
  },
  {
   "cell_type": "code",
   "execution_count": null,
   "metadata": {},
   "outputs": [],
   "source": [
    "read_file('mailbox.txt')"
   ]
  },
  {
   "cell_type": "code",
   "execution_count": null,
   "metadata": {},
   "outputs": [],
   "source": []
  }
 ],
 "metadata": {
  "kernelspec": {
   "display_name": "Python 3 (ipykernel)",
   "language": "python",
   "name": "python3"
  },
  "language_info": {
   "codemirror_mode": {
    "name": "ipython",
    "version": 3
   },
   "file_extension": ".py",
   "mimetype": "text/x-python",
   "name": "python",
   "nbconvert_exporter": "python",
   "pygments_lexer": "ipython3",
   "version": "3.12.4"
  }
 },
 "nbformat": 4,
 "nbformat_minor": 4
}
